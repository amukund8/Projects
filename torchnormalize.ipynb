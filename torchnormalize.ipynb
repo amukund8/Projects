{
  "nbformat": 4,
  "nbformat_minor": 0,
  "metadata": {
    "colab": {
      "provenance": [],
      "authorship_tag": "ABX9TyNItuQyJ5Ws9k2hWiO/Y9e1",
      "include_colab_link": true
    },
    "kernelspec": {
      "name": "python3",
      "display_name": "Python 3"
    },
    "language_info": {
      "name": "python"
    }
  },
  "cells": [
    {
      "cell_type": "markdown",
      "metadata": {
        "id": "view-in-github",
        "colab_type": "text"
      },
      "source": [
        "<a href=\"https://colab.research.google.com/github/amukund8/Projects/blob/main/torchnormalize.ipynb\" target=\"_parent\"><img src=\"https://colab.research.google.com/assets/colab-badge.svg\" alt=\"Open In Colab\"/></a>"
      ]
    },
    {
      "cell_type": "code",
      "execution_count": null,
      "metadata": {
        "colab": {
          "base_uri": "https://localhost:8080/"
        },
        "id": "T4lwyWcZqxDg",
        "outputId": "436e9fae-82e1-4c19-cf34-b8fcbe2095f2"
      },
      "outputs": [
        {
          "output_type": "stream",
          "name": "stderr",
          "text": [
            "/usr/local/lib/python3.10/dist-packages/torch/utils/data/dataloader.py:557: UserWarning: This DataLoader will create 4 worker processes in total. Our suggested max number of worker in current system is 2, which is smaller than what this DataLoader is going to create. Please be aware that excessive worker creation might get DataLoader running slow or even freeze, lower the worker number to avoid potential slowness/freeze if necessary.\n",
            "  warnings.warn(_create_warning_msg(\n"
          ]
        }
      ],
      "source": [
        "import torch\n",
        "from torch.utils.data import Dataset, DataLoader\n",
        "\n",
        "# Define a custom dataset class with random data\n",
        "class RandomDataset(Dataset):\n",
        "    def __init__(self, num_samples, input_size, target_size):\n",
        "        self.num_samples = num_samples\n",
        "        self.input_size = input_size\n",
        "        self.target_size = target_size\n",
        "\n",
        "    def __len__(self):\n",
        "        return self.num_samples\n",
        "\n",
        "    def __getitem__(self, idx):\n",
        "        # Generate random input data and target labels for each sample\n",
        "        input_data = torch.randn(self.input_size)\n",
        "        target_label = torch.randint(0, 2, (self.target_size,)).item()\n",
        "\n",
        "        sample = {'input': input_data, 'target': target_label}\n",
        "        return sample\n",
        "\n",
        "# Create an instance of the RandomDataset\n",
        "num_samples = 1000\n",
        "input_size = 64\n",
        "target_size = 1\n",
        "random_dataset = RandomDataset(num_samples, input_size, target_size)\n",
        "\n",
        "# Create a DataLoader for the dataset\n",
        "batch_size = 64\n",
        "shuffle = True\n",
        "num_workers = 4\n",
        "\n",
        "random_data_loader = DataLoader(random_dataset, batch_size=batch_size, shuffle=shuffle, num_workers=num_workers)\n",
        "\n",
        "# Iterate through the DataLoader\n",
        "for batch in random_data_loader:\n",
        "    inputs = batch['input']  # Access the input data\n",
        "    targets = batch['target']  # Access the target labels\n",
        "\n",
        "    # Your training or evaluation logic here\n",
        "    # Forward pass, backward pass, optimization, etc.\n",
        "\n"
      ]
    },
    {
      "cell_type": "code",
      "source": [
        "import torch\n",
        "import numpy as np\n",
        "from torch.utils.data import Dataset, DataLoader\n",
        "\n",
        "# Define a custom dataset class with random data\n",
        "class RandomDataset(Dataset):\n",
        "    def __init__(self, num_samples, input_size, target_size):\n",
        "        self.num_samples = num_samples\n",
        "        self.input_size = input_size\n",
        "        self.target_size = target_size\n",
        "\n",
        "    def __len__(self):\n",
        "        return self.num_samples\n",
        "\n",
        "    def __getitem__(self, idx):\n",
        "        # Generate random input data and target labels for each sample\n",
        "        input_data = torch.randn(self.input_size)\n",
        "        data=input_data\n",
        "        data=data.numpy()\n",
        "\n",
        "        # Normalization\n",
        "        data=(data-np.min(data))/(np.max(data)-np.min(data))\n",
        "        data=torch.from_numpy(data)\n",
        "\n",
        "        target_label = torch.randint(0, 2, (self.target_size,)).item()\n",
        "\n",
        "        sample = {'input': data, 'target': target_label}\n",
        "        return sample\n",
        "\n",
        "# Create an instance of the RandomDataset\n",
        "num_samples = 1000\n",
        "input_size = 64\n",
        "target_size = 1\n",
        "random_dataset = RandomDataset(num_samples, input_size, target_size)\n"
      ],
      "metadata": {
        "id": "qrZGU8tgq1aA"
      },
      "execution_count": null,
      "outputs": []
    },
    {
      "cell_type": "code",
      "source": [
        "len(random_dataset[0])"
      ],
      "metadata": {
        "colab": {
          "base_uri": "https://localhost:8080/"
        },
        "id": "agDfCqov20W3",
        "outputId": "1dc123f2-43f0-45ed-c399-d2977b69312d"
      },
      "execution_count": null,
      "outputs": [
        {
          "output_type": "execute_result",
          "data": {
            "text/plain": [
              "2"
            ]
          },
          "metadata": {},
          "execution_count": 632
        }
      ]
    },
    {
      "cell_type": "code",
      "source": [
        "random_dataset[0]"
      ],
      "metadata": {
        "colab": {
          "base_uri": "https://localhost:8080/"
        },
        "id": "nTDOsc9e23kt",
        "outputId": "1d886197-45fb-44f3-c31a-a28d09fc373b"
      },
      "execution_count": null,
      "outputs": [
        {
          "output_type": "execute_result",
          "data": {
            "text/plain": [
              "{'input': tensor([0.5749, 0.5289, 0.4452, 0.5880, 0.3583, 0.5628, 0.2764, 0.7407, 0.8287,\n",
              "         0.8142, 0.5351, 0.1742, 0.6941, 0.6983, 0.9807, 0.7448, 0.5505, 0.3414,\n",
              "         0.4764, 0.3129, 0.1642, 0.2669, 0.4053, 0.6850, 0.1844, 0.0884, 0.5522,\n",
              "         0.7542, 0.3978, 0.6823, 0.6835, 0.1774, 0.3153, 0.7405, 0.4472, 0.2580,\n",
              "         0.6041, 0.6314, 0.8288, 0.4873, 1.0000, 0.4058, 0.3129, 0.5651, 0.7645,\n",
              "         0.8182, 0.6271, 0.5824, 0.2928, 0.4116, 0.3896, 0.5581, 0.6228, 0.4898,\n",
              "         0.0000, 0.8174, 0.7672, 0.1213, 0.8637, 0.5931, 0.4104, 0.7569, 0.9047,\n",
              "         0.5281]),\n",
              " 'target': 1}"
            ]
          },
          "metadata": {},
          "execution_count": 633
        }
      ]
    },
    {
      "cell_type": "code",
      "source": [
        "len(random_dataset[0]['input'])"
      ],
      "metadata": {
        "colab": {
          "base_uri": "https://localhost:8080/"
        },
        "id": "qqxAxVXH3IQn",
        "outputId": "d0090101-1991-4548-ada3-55cf27a52383"
      },
      "execution_count": null,
      "outputs": [
        {
          "output_type": "execute_result",
          "data": {
            "text/plain": [
              "64"
            ]
          },
          "metadata": {},
          "execution_count": 634
        }
      ]
    },
    {
      "cell_type": "code",
      "source": [
        "d=random_dataset[2]"
      ],
      "metadata": {
        "id": "haVfCsB48Jck"
      },
      "execution_count": null,
      "outputs": []
    },
    {
      "cell_type": "code",
      "source": [
        "print(d)"
      ],
      "metadata": {
        "colab": {
          "base_uri": "https://localhost:8080/"
        },
        "id": "cuOjr7tD8Nbq",
        "outputId": "fd674524-445c-40fd-9978-7ac4ec385498"
      },
      "execution_count": null,
      "outputs": [
        {
          "output_type": "stream",
          "name": "stdout",
          "text": [
            "{'input': tensor([0.3616, 0.3863, 0.4221, 0.3085, 0.4379, 0.5485, 0.6355, 0.3933, 0.5852,\n",
            "        0.4410, 0.4668, 0.7075, 0.5854, 0.5143, 0.3424, 0.6132, 0.2613, 0.5351,\n",
            "        0.6887, 0.0000, 0.1977, 0.4886, 0.2077, 0.8075, 0.2454, 0.2989, 0.4364,\n",
            "        0.6807, 0.2567, 0.5061, 0.6282, 0.0647, 0.1654, 0.5373, 0.5191, 0.4462,\n",
            "        0.4626, 0.3587, 0.4351, 0.4041, 0.2836, 0.5315, 0.4987, 0.3333, 0.4632,\n",
            "        0.4831, 0.2591, 0.8141, 0.4359, 0.5570, 0.3095, 0.3526, 0.4568, 0.5106,\n",
            "        0.4722, 1.0000, 0.6573, 0.6309, 0.3160, 0.3360, 0.3831, 0.3876, 0.3084,\n",
            "        0.4619]), 'target': 0}\n"
          ]
        }
      ]
    },
    {
      "cell_type": "code",
      "source": [
        "print(d['input'])"
      ],
      "metadata": {
        "colab": {
          "base_uri": "https://localhost:8080/"
        },
        "id": "xH_U1_vT8SZL",
        "outputId": "defc4a0a-f38c-420c-b7ce-89397d9b3fc8"
      },
      "execution_count": null,
      "outputs": [
        {
          "output_type": "stream",
          "name": "stdout",
          "text": [
            "tensor([0.3616, 0.3863, 0.4221, 0.3085, 0.4379, 0.5485, 0.6355, 0.3933, 0.5852,\n",
            "        0.4410, 0.4668, 0.7075, 0.5854, 0.5143, 0.3424, 0.6132, 0.2613, 0.5351,\n",
            "        0.6887, 0.0000, 0.1977, 0.4886, 0.2077, 0.8075, 0.2454, 0.2989, 0.4364,\n",
            "        0.6807, 0.2567, 0.5061, 0.6282, 0.0647, 0.1654, 0.5373, 0.5191, 0.4462,\n",
            "        0.4626, 0.3587, 0.4351, 0.4041, 0.2836, 0.5315, 0.4987, 0.3333, 0.4632,\n",
            "        0.4831, 0.2591, 0.8141, 0.4359, 0.5570, 0.3095, 0.3526, 0.4568, 0.5106,\n",
            "        0.4722, 1.0000, 0.6573, 0.6309, 0.3160, 0.3360, 0.3831, 0.3876, 0.3084,\n",
            "        0.4619])\n"
          ]
        }
      ]
    },
    {
      "cell_type": "code",
      "source": [
        "a=torch.max(d['input'])"
      ],
      "metadata": {
        "id": "p4mi5_018V7T"
      },
      "execution_count": null,
      "outputs": []
    },
    {
      "cell_type": "code",
      "source": [
        "print(a.item())"
      ],
      "metadata": {
        "colab": {
          "base_uri": "https://localhost:8080/"
        },
        "id": "nfFux6bp8bS5",
        "outputId": "61bb1327-0f5d-4c95-99c6-adbc231aa9a9"
      },
      "execution_count": null,
      "outputs": [
        {
          "output_type": "stream",
          "name": "stdout",
          "text": [
            "1.0\n"
          ]
        }
      ]
    },
    {
      "cell_type": "code",
      "source": [
        "import torch\n",
        "import numpy as np\n",
        "from torch.utils.data import Dataset, DataLoader\n",
        "import torchvision.transforms as transforms\n",
        "\n",
        "\n",
        "# Define a custom dataset class with random data\n",
        "class RandomDataset(Dataset):\n",
        "    def __init__(self, num_samples, input_size, target_size,input,label):\n",
        "        self.num_samples = num_samples\n",
        "        self.input_size = input_size\n",
        "        self.target_size = target_size\n",
        "        self.target_label=label\n",
        "        self.input=input\n",
        "\n",
        "    def __len__(self):\n",
        "        return self.num_samples\n",
        "\n",
        "    def __getitem__(self, idx):\n",
        "        # Generate random input data and target labels for each sample\n",
        "        input_data = self.input\n",
        "        data=input_data\n",
        "\n",
        "        # Normalizaiton\n",
        "\n",
        "        target_label=self.target_label\n",
        "\n",
        "\n",
        "        #sample = {'input': data, 'target': target_label}\n",
        "        return data,target_label\n",
        "\n",
        "# Create an instance of the RandomDataset\n",
        "torch.manual_seed(42)\n",
        "input_size = (3,5,5)\n",
        "target_size = 1\n",
        "input= torch.randn(input_size)\n",
        "\n",
        "target_label = torch.randint(0, 3, (target_size,)).item()\n",
        "num_samples = 50\n",
        "\n",
        "random_dataset = RandomDataset(num_samples, input_size, target_size,input,target_label)\n",
        "a=random_dataset\n",
        "\n"
      ],
      "metadata": {
        "id": "BuLyXVe33nh2"
      },
      "execution_count": null,
      "outputs": []
    },
    {
      "cell_type": "code",
      "source": [
        "a.__getitem__(1)"
      ],
      "metadata": {
        "colab": {
          "base_uri": "https://localhost:8080/"
        },
        "id": "fRqh8IKVL6ZZ",
        "outputId": "8dc1259a-750f-49dd-f94a-67db72e8fcb7"
      },
      "execution_count": null,
      "outputs": [
        {
          "output_type": "execute_result",
          "data": {
            "text/plain": [
              "(tensor([[[ 1.9269,  1.4873,  0.9007, -2.1055,  0.6784],\n",
              "          [-1.2345, -0.0431, -1.6047, -0.7521,  1.6487],\n",
              "          [-0.3925, -1.4036, -0.7279, -0.5594, -0.7688],\n",
              "          [ 0.7624,  1.6423, -0.1596, -0.4974,  0.4396],\n",
              "          [-0.7581,  1.0783,  0.8008,  1.6806,  1.2791]],\n",
              " \n",
              "         [[ 1.2964,  0.6105,  1.3347, -0.2316,  0.0418],\n",
              "          [-0.2516,  0.8599, -1.3847, -0.8712, -0.2234],\n",
              "          [ 1.7174,  0.3189, -0.4245,  0.3057, -0.7746],\n",
              "          [-1.5576,  0.9956, -0.8798, -0.6011, -1.2742],\n",
              "          [ 2.1228, -1.2347, -0.4879, -0.9138, -0.6581]],\n",
              " \n",
              "         [[ 0.0780,  0.5258, -0.4880,  1.1914, -0.8140],\n",
              "          [-0.7360, -1.4032,  0.0360, -0.0635, -0.1423],\n",
              "          [ 0.1971, -1.1441,  0.3383,  1.6992,  0.0109],\n",
              "          [-0.3387, -1.3407,  0.4584, -0.5644,  1.0563],\n",
              "          [-1.4692,  1.4332,  0.7440, -0.4816, -1.0495]]]),\n",
              " 2)"
            ]
          },
          "metadata": {},
          "execution_count": 641
        }
      ]
    },
    {
      "cell_type": "code",
      "source": [
        "a.__getitem__(1)"
      ],
      "metadata": {
        "colab": {
          "base_uri": "https://localhost:8080/"
        },
        "id": "sZfdL4F_NNJs",
        "outputId": "981d61c0-1a8a-4320-e064-7df8409b1a6a"
      },
      "execution_count": null,
      "outputs": [
        {
          "output_type": "execute_result",
          "data": {
            "text/plain": [
              "(tensor([[[ 1.9269,  1.4873,  0.9007, -2.1055,  0.6784],\n",
              "          [-1.2345, -0.0431, -1.6047, -0.7521,  1.6487],\n",
              "          [-0.3925, -1.4036, -0.7279, -0.5594, -0.7688],\n",
              "          [ 0.7624,  1.6423, -0.1596, -0.4974,  0.4396],\n",
              "          [-0.7581,  1.0783,  0.8008,  1.6806,  1.2791]],\n",
              " \n",
              "         [[ 1.2964,  0.6105,  1.3347, -0.2316,  0.0418],\n",
              "          [-0.2516,  0.8599, -1.3847, -0.8712, -0.2234],\n",
              "          [ 1.7174,  0.3189, -0.4245,  0.3057, -0.7746],\n",
              "          [-1.5576,  0.9956, -0.8798, -0.6011, -1.2742],\n",
              "          [ 2.1228, -1.2347, -0.4879, -0.9138, -0.6581]],\n",
              " \n",
              "         [[ 0.0780,  0.5258, -0.4880,  1.1914, -0.8140],\n",
              "          [-0.7360, -1.4032,  0.0360, -0.0635, -0.1423],\n",
              "          [ 0.1971, -1.1441,  0.3383,  1.6992,  0.0109],\n",
              "          [-0.3387, -1.3407,  0.4584, -0.5644,  1.0563],\n",
              "          [-1.4692,  1.4332,  0.7440, -0.4816, -1.0495]]]),\n",
              " 2)"
            ]
          },
          "metadata": {},
          "execution_count": 642
        }
      ]
    },
    {
      "cell_type": "code",
      "source": [
        "a.__getitem__(1)[0]"
      ],
      "metadata": {
        "colab": {
          "base_uri": "https://localhost:8080/"
        },
        "id": "mi7soMpwPDMJ",
        "outputId": "81e4bd91-7cf4-4355-def3-0cfdd23f3724"
      },
      "execution_count": null,
      "outputs": [
        {
          "output_type": "execute_result",
          "data": {
            "text/plain": [
              "tensor([[[ 1.9269,  1.4873,  0.9007, -2.1055,  0.6784],\n",
              "         [-1.2345, -0.0431, -1.6047, -0.7521,  1.6487],\n",
              "         [-0.3925, -1.4036, -0.7279, -0.5594, -0.7688],\n",
              "         [ 0.7624,  1.6423, -0.1596, -0.4974,  0.4396],\n",
              "         [-0.7581,  1.0783,  0.8008,  1.6806,  1.2791]],\n",
              "\n",
              "        [[ 1.2964,  0.6105,  1.3347, -0.2316,  0.0418],\n",
              "         [-0.2516,  0.8599, -1.3847, -0.8712, -0.2234],\n",
              "         [ 1.7174,  0.3189, -0.4245,  0.3057, -0.7746],\n",
              "         [-1.5576,  0.9956, -0.8798, -0.6011, -1.2742],\n",
              "         [ 2.1228, -1.2347, -0.4879, -0.9138, -0.6581]],\n",
              "\n",
              "        [[ 0.0780,  0.5258, -0.4880,  1.1914, -0.8140],\n",
              "         [-0.7360, -1.4032,  0.0360, -0.0635, -0.1423],\n",
              "         [ 0.1971, -1.1441,  0.3383,  1.6992,  0.0109],\n",
              "         [-0.3387, -1.3407,  0.4584, -0.5644,  1.0563],\n",
              "         [-1.4692,  1.4332,  0.7440, -0.4816, -1.0495]]])"
            ]
          },
          "metadata": {},
          "execution_count": 643
        }
      ]
    },
    {
      "cell_type": "code",
      "source": [
        "tensor_list=[]\n",
        "for i in range(len(a)):\n",
        "  tensor_list.append(a.__getitem__(i)[0])\n",
        "\n",
        "\n"
      ],
      "metadata": {
        "id": "hTDVkOkXP-ZR"
      },
      "execution_count": null,
      "outputs": []
    },
    {
      "cell_type": "code",
      "source": [
        "len(tensor_list)"
      ],
      "metadata": {
        "colab": {
          "base_uri": "https://localhost:8080/"
        },
        "id": "0babyFqmTRw5",
        "outputId": "cb78dd11-dafc-4777-f162-fca099a510c0"
      },
      "execution_count": null,
      "outputs": [
        {
          "output_type": "execute_result",
          "data": {
            "text/plain": [
              "50"
            ]
          },
          "metadata": {},
          "execution_count": 645
        }
      ]
    },
    {
      "cell_type": "code",
      "source": [
        "tensor_list=torch.stack(tensor_list,dim=0)"
      ],
      "metadata": {
        "id": "KxgK1oKrTX9d"
      },
      "execution_count": null,
      "outputs": []
    },
    {
      "cell_type": "code",
      "source": [
        "tensor_list.shape"
      ],
      "metadata": {
        "colab": {
          "base_uri": "https://localhost:8080/"
        },
        "id": "DSwbTSNSTsRz",
        "outputId": "1fc22a4a-50a1-4898-8b76-9d7db48d0c44"
      },
      "execution_count": null,
      "outputs": [
        {
          "output_type": "execute_result",
          "data": {
            "text/plain": [
              "torch.Size([50, 3, 5, 5])"
            ]
          },
          "metadata": {},
          "execution_count": 647
        }
      ]
    },
    {
      "cell_type": "code",
      "source": [
        "mean = torch.mean(tensor_list, dim=(0, 2, 3), keepdim=True)\n",
        "std = torch.std(tensor_list, dim=(0, 2, 3), keepdim=True)\n"
      ],
      "metadata": {
        "id": "PIkO3bR9TyYz"
      },
      "execution_count": null,
      "outputs": []
    },
    {
      "cell_type": "code",
      "source": [
        "print(mean)\n",
        "print(std)"
      ],
      "metadata": {
        "colab": {
          "base_uri": "https://localhost:8080/"
        },
        "id": "8QVgnmnLUM7w",
        "outputId": "fcb223f6-5bfa-47c7-86ca-f15eba8748d6"
      },
      "execution_count": null,
      "outputs": [
        {
          "output_type": "stream",
          "name": "stdout",
          "text": [
            "tensor([[[[ 0.1327]],\n",
            "\n",
            "         [[-0.0866]],\n",
            "\n",
            "         [[-0.0907]]]])\n",
            "tensor([[[[1.1444]],\n",
            "\n",
            "         [[0.9978]],\n",
            "\n",
            "         [[0.8707]]]])\n"
          ]
        }
      ]
    },
    {
      "cell_type": "code",
      "source": [
        "tensor_list.shape"
      ],
      "metadata": {
        "colab": {
          "base_uri": "https://localhost:8080/"
        },
        "id": "tol_A4llWCUn",
        "outputId": "0adbb3c9-78ac-4fb9-92aa-1eedf625445e"
      },
      "execution_count": null,
      "outputs": [
        {
          "output_type": "execute_result",
          "data": {
            "text/plain": [
              "torch.Size([50, 3, 5, 5])"
            ]
          },
          "metadata": {},
          "execution_count": 650
        }
      ]
    },
    {
      "cell_type": "code",
      "source": [
        "tensor_list\n"
      ],
      "metadata": {
        "colab": {
          "base_uri": "https://localhost:8080/"
        },
        "id": "PnBWC40cUtDV",
        "outputId": "f8059dc5-4e88-4edb-c2ea-bf4c8a3a63d3"
      },
      "execution_count": null,
      "outputs": [
        {
          "output_type": "execute_result",
          "data": {
            "text/plain": [
              "tensor([[[[ 1.9269,  1.4873,  0.9007, -2.1055,  0.6784],\n",
              "          [-1.2345, -0.0431, -1.6047, -0.7521,  1.6487],\n",
              "          [-0.3925, -1.4036, -0.7279, -0.5594, -0.7688],\n",
              "          [ 0.7624,  1.6423, -0.1596, -0.4974,  0.4396],\n",
              "          [-0.7581,  1.0783,  0.8008,  1.6806,  1.2791]],\n",
              "\n",
              "         [[ 1.2964,  0.6105,  1.3347, -0.2316,  0.0418],\n",
              "          [-0.2516,  0.8599, -1.3847, -0.8712, -0.2234],\n",
              "          [ 1.7174,  0.3189, -0.4245,  0.3057, -0.7746],\n",
              "          [-1.5576,  0.9956, -0.8798, -0.6011, -1.2742],\n",
              "          [ 2.1228, -1.2347, -0.4879, -0.9138, -0.6581]],\n",
              "\n",
              "         [[ 0.0780,  0.5258, -0.4880,  1.1914, -0.8140],\n",
              "          [-0.7360, -1.4032,  0.0360, -0.0635, -0.1423],\n",
              "          [ 0.1971, -1.1441,  0.3383,  1.6992,  0.0109],\n",
              "          [-0.3387, -1.3407,  0.4584, -0.5644,  1.0563],\n",
              "          [-1.4692,  1.4332,  0.7440, -0.4816, -1.0495]]],\n",
              "\n",
              "\n",
              "        [[[ 1.9269,  1.4873,  0.9007, -2.1055,  0.6784],\n",
              "          [-1.2345, -0.0431, -1.6047, -0.7521,  1.6487],\n",
              "          [-0.3925, -1.4036, -0.7279, -0.5594, -0.7688],\n",
              "          [ 0.7624,  1.6423, -0.1596, -0.4974,  0.4396],\n",
              "          [-0.7581,  1.0783,  0.8008,  1.6806,  1.2791]],\n",
              "\n",
              "         [[ 1.2964,  0.6105,  1.3347, -0.2316,  0.0418],\n",
              "          [-0.2516,  0.8599, -1.3847, -0.8712, -0.2234],\n",
              "          [ 1.7174,  0.3189, -0.4245,  0.3057, -0.7746],\n",
              "          [-1.5576,  0.9956, -0.8798, -0.6011, -1.2742],\n",
              "          [ 2.1228, -1.2347, -0.4879, -0.9138, -0.6581]],\n",
              "\n",
              "         [[ 0.0780,  0.5258, -0.4880,  1.1914, -0.8140],\n",
              "          [-0.7360, -1.4032,  0.0360, -0.0635, -0.1423],\n",
              "          [ 0.1971, -1.1441,  0.3383,  1.6992,  0.0109],\n",
              "          [-0.3387, -1.3407,  0.4584, -0.5644,  1.0563],\n",
              "          [-1.4692,  1.4332,  0.7440, -0.4816, -1.0495]]],\n",
              "\n",
              "\n",
              "        [[[ 1.9269,  1.4873,  0.9007, -2.1055,  0.6784],\n",
              "          [-1.2345, -0.0431, -1.6047, -0.7521,  1.6487],\n",
              "          [-0.3925, -1.4036, -0.7279, -0.5594, -0.7688],\n",
              "          [ 0.7624,  1.6423, -0.1596, -0.4974,  0.4396],\n",
              "          [-0.7581,  1.0783,  0.8008,  1.6806,  1.2791]],\n",
              "\n",
              "         [[ 1.2964,  0.6105,  1.3347, -0.2316,  0.0418],\n",
              "          [-0.2516,  0.8599, -1.3847, -0.8712, -0.2234],\n",
              "          [ 1.7174,  0.3189, -0.4245,  0.3057, -0.7746],\n",
              "          [-1.5576,  0.9956, -0.8798, -0.6011, -1.2742],\n",
              "          [ 2.1228, -1.2347, -0.4879, -0.9138, -0.6581]],\n",
              "\n",
              "         [[ 0.0780,  0.5258, -0.4880,  1.1914, -0.8140],\n",
              "          [-0.7360, -1.4032,  0.0360, -0.0635, -0.1423],\n",
              "          [ 0.1971, -1.1441,  0.3383,  1.6992,  0.0109],\n",
              "          [-0.3387, -1.3407,  0.4584, -0.5644,  1.0563],\n",
              "          [-1.4692,  1.4332,  0.7440, -0.4816, -1.0495]]],\n",
              "\n",
              "\n",
              "        ...,\n",
              "\n",
              "\n",
              "        [[[ 1.9269,  1.4873,  0.9007, -2.1055,  0.6784],\n",
              "          [-1.2345, -0.0431, -1.6047, -0.7521,  1.6487],\n",
              "          [-0.3925, -1.4036, -0.7279, -0.5594, -0.7688],\n",
              "          [ 0.7624,  1.6423, -0.1596, -0.4974,  0.4396],\n",
              "          [-0.7581,  1.0783,  0.8008,  1.6806,  1.2791]],\n",
              "\n",
              "         [[ 1.2964,  0.6105,  1.3347, -0.2316,  0.0418],\n",
              "          [-0.2516,  0.8599, -1.3847, -0.8712, -0.2234],\n",
              "          [ 1.7174,  0.3189, -0.4245,  0.3057, -0.7746],\n",
              "          [-1.5576,  0.9956, -0.8798, -0.6011, -1.2742],\n",
              "          [ 2.1228, -1.2347, -0.4879, -0.9138, -0.6581]],\n",
              "\n",
              "         [[ 0.0780,  0.5258, -0.4880,  1.1914, -0.8140],\n",
              "          [-0.7360, -1.4032,  0.0360, -0.0635, -0.1423],\n",
              "          [ 0.1971, -1.1441,  0.3383,  1.6992,  0.0109],\n",
              "          [-0.3387, -1.3407,  0.4584, -0.5644,  1.0563],\n",
              "          [-1.4692,  1.4332,  0.7440, -0.4816, -1.0495]]],\n",
              "\n",
              "\n",
              "        [[[ 1.9269,  1.4873,  0.9007, -2.1055,  0.6784],\n",
              "          [-1.2345, -0.0431, -1.6047, -0.7521,  1.6487],\n",
              "          [-0.3925, -1.4036, -0.7279, -0.5594, -0.7688],\n",
              "          [ 0.7624,  1.6423, -0.1596, -0.4974,  0.4396],\n",
              "          [-0.7581,  1.0783,  0.8008,  1.6806,  1.2791]],\n",
              "\n",
              "         [[ 1.2964,  0.6105,  1.3347, -0.2316,  0.0418],\n",
              "          [-0.2516,  0.8599, -1.3847, -0.8712, -0.2234],\n",
              "          [ 1.7174,  0.3189, -0.4245,  0.3057, -0.7746],\n",
              "          [-1.5576,  0.9956, -0.8798, -0.6011, -1.2742],\n",
              "          [ 2.1228, -1.2347, -0.4879, -0.9138, -0.6581]],\n",
              "\n",
              "         [[ 0.0780,  0.5258, -0.4880,  1.1914, -0.8140],\n",
              "          [-0.7360, -1.4032,  0.0360, -0.0635, -0.1423],\n",
              "          [ 0.1971, -1.1441,  0.3383,  1.6992,  0.0109],\n",
              "          [-0.3387, -1.3407,  0.4584, -0.5644,  1.0563],\n",
              "          [-1.4692,  1.4332,  0.7440, -0.4816, -1.0495]]],\n",
              "\n",
              "\n",
              "        [[[ 1.9269,  1.4873,  0.9007, -2.1055,  0.6784],\n",
              "          [-1.2345, -0.0431, -1.6047, -0.7521,  1.6487],\n",
              "          [-0.3925, -1.4036, -0.7279, -0.5594, -0.7688],\n",
              "          [ 0.7624,  1.6423, -0.1596, -0.4974,  0.4396],\n",
              "          [-0.7581,  1.0783,  0.8008,  1.6806,  1.2791]],\n",
              "\n",
              "         [[ 1.2964,  0.6105,  1.3347, -0.2316,  0.0418],\n",
              "          [-0.2516,  0.8599, -1.3847, -0.8712, -0.2234],\n",
              "          [ 1.7174,  0.3189, -0.4245,  0.3057, -0.7746],\n",
              "          [-1.5576,  0.9956, -0.8798, -0.6011, -1.2742],\n",
              "          [ 2.1228, -1.2347, -0.4879, -0.9138, -0.6581]],\n",
              "\n",
              "         [[ 0.0780,  0.5258, -0.4880,  1.1914, -0.8140],\n",
              "          [-0.7360, -1.4032,  0.0360, -0.0635, -0.1423],\n",
              "          [ 0.1971, -1.1441,  0.3383,  1.6992,  0.0109],\n",
              "          [-0.3387, -1.3407,  0.4584, -0.5644,  1.0563],\n",
              "          [-1.4692,  1.4332,  0.7440, -0.4816, -1.0495]]]])"
            ]
          },
          "metadata": {},
          "execution_count": 651
        }
      ]
    },
    {
      "cell_type": "code",
      "source": [],
      "metadata": {
        "id": "ajwjnlH7qj2O"
      },
      "execution_count": null,
      "outputs": []
    },
    {
      "cell_type": "code",
      "source": [
        "\n",
        "'''\n",
        "\n",
        "# Define a custom dataset class with random data\n",
        "class Normalize(Dataset):\n",
        "    def __init__(self,input,label,transform):\n",
        "\n",
        "        self.target_label=label\n",
        "        self.input=input\n",
        "        self.transform=transform\n",
        "\n",
        "    def __len__(self):\n",
        "        return len(self.target_label)\n",
        "\n",
        "    def __getitem__(self, idx):\n",
        "        # Generate random input data and target labels for each sample\n",
        "        input_data = self.input\n",
        "        data=input_data\n",
        "\n",
        "        # Normalizaiton\n",
        "\n",
        "        target_label=self.target_label\n",
        "\n",
        "        if self.transform:\n",
        "            sample = self.transform(sample)\n",
        "\n",
        "        #sample = {'input': data, 'target': target_label}\n",
        "        return data,target_label\n",
        "\n",
        "\n",
        "\n",
        "\n",
        "transformed = Normalize(tensor_list,target_label)\n",
        "'''\n",
        "\n"
      ],
      "metadata": {
        "colab": {
          "base_uri": "https://localhost:8080/",
          "height": 122
        },
        "id": "c5a69Z5cpJ9D",
        "outputId": "6877ab17-8910-4b74-e57c-436dda7d3dfb"
      },
      "execution_count": null,
      "outputs": [
        {
          "output_type": "execute_result",
          "data": {
            "text/plain": [
              "\"\\n\\n# Define a custom dataset class with random data\\nclass Normalize(Dataset):\\n    def __init__(self,input,label,transform):\\n\\n        self.target_label=label\\n        self.input=input\\n        self.transform=transform\\n\\n    def __len__(self):\\n        return len(self.target_label)\\n\\n    def __getitem__(self, idx):\\n        # Generate random input data and target labels for each sample\\n        input_data = self.input\\n        data=input_data\\n        \\n        # Normalizaiton\\n        \\n        target_label=self.target_label\\n\\n        if self.transform:\\n            sample = self.transform(sample)\\n\\n        #sample = {'input': data, 'target': target_label}\\n        return data,target_label\\n\\n\\n\\n\\ntransformed = Normalize(tensor_list,target_label)\\n\""
            ],
            "application/vnd.google.colaboratory.intrinsic+json": {
              "type": "string"
            }
          },
          "metadata": {},
          "execution_count": 652
        }
      ]
    },
    {
      "cell_type": "code",
      "source": [
        "normalize = transforms.Compose([\n",
        "    transforms.Normalize(mean=mean, std=std)\n",
        "])\n",
        "\n",
        "hello=normalize(tensor_list)"
      ],
      "metadata": {
        "id": "3u_l8zz5GiJs"
      },
      "execution_count": null,
      "outputs": []
    },
    {
      "cell_type": "code",
      "source": [
        "tensor_list[0]"
      ],
      "metadata": {
        "colab": {
          "base_uri": "https://localhost:8080/"
        },
        "id": "uuma9H0IXynq",
        "outputId": "55d375ad-beb7-4321-ced4-354ee99e17de"
      },
      "execution_count": null,
      "outputs": [
        {
          "output_type": "execute_result",
          "data": {
            "text/plain": [
              "tensor([[[ 1.9269,  1.4873,  0.9007, -2.1055,  0.6784],\n",
              "         [-1.2345, -0.0431, -1.6047, -0.7521,  1.6487],\n",
              "         [-0.3925, -1.4036, -0.7279, -0.5594, -0.7688],\n",
              "         [ 0.7624,  1.6423, -0.1596, -0.4974,  0.4396],\n",
              "         [-0.7581,  1.0783,  0.8008,  1.6806,  1.2791]],\n",
              "\n",
              "        [[ 1.2964,  0.6105,  1.3347, -0.2316,  0.0418],\n",
              "         [-0.2516,  0.8599, -1.3847, -0.8712, -0.2234],\n",
              "         [ 1.7174,  0.3189, -0.4245,  0.3057, -0.7746],\n",
              "         [-1.5576,  0.9956, -0.8798, -0.6011, -1.2742],\n",
              "         [ 2.1228, -1.2347, -0.4879, -0.9138, -0.6581]],\n",
              "\n",
              "        [[ 0.0780,  0.5258, -0.4880,  1.1914, -0.8140],\n",
              "         [-0.7360, -1.4032,  0.0360, -0.0635, -0.1423],\n",
              "         [ 0.1971, -1.1441,  0.3383,  1.6992,  0.0109],\n",
              "         [-0.3387, -1.3407,  0.4584, -0.5644,  1.0563],\n",
              "         [-1.4692,  1.4332,  0.7440, -0.4816, -1.0495]]])"
            ]
          },
          "metadata": {},
          "execution_count": 654
        }
      ]
    },
    {
      "cell_type": "code",
      "source": [
        "transfromed[0]"
      ],
      "metadata": {
        "colab": {
          "base_uri": "https://localhost:8080/"
        },
        "id": "REsgKcY_Xzxv",
        "outputId": "9e3c03d2-56e1-445c-81a4-1da252a16203"
      },
      "execution_count": null,
      "outputs": [
        {
          "output_type": "execute_result",
          "data": {
            "text/plain": [
              "tensor([[[ 1.5678,  1.1836,  0.6711, -1.9558,  0.4768],\n",
              "         [-1.1947, -0.1536, -1.5181, -0.7732,  1.3247],\n",
              "         [-0.4589, -1.3424, -0.7520, -0.6048, -0.7878],\n",
              "         [ 0.5503,  1.3191, -0.2554, -0.5506,  0.2681],\n",
              "         [-0.7784,  0.8263,  0.5838,  1.3526,  1.0017]],\n",
              "\n",
              "        [[ 1.3861,  0.6986,  1.4245, -0.1453,  0.1287],\n",
              "         [-0.1653,  0.9486, -1.3010, -0.7864, -0.1371],\n",
              "         [ 1.8080,  0.4064, -0.3387,  0.3932, -0.6895],\n",
              "         [-1.4742,  1.0846, -0.7949, -0.5157, -1.1902],\n",
              "         [ 2.2143, -1.1506, -0.4022, -0.8291, -0.5728]],\n",
              "\n",
              "        [[ 0.1937,  0.7080, -0.4563,  1.4724, -0.8307],\n",
              "         [-0.7411, -1.5075,  0.1455,  0.0312, -0.0593],\n",
              "         [ 0.3305, -1.2099,  0.4927,  2.0556,  0.1166],\n",
              "         [-0.2849, -1.4356,  0.6306, -0.5441,  1.3173],\n",
              "         [-1.5831,  1.7501,  0.9585, -0.4490, -1.1011]]])"
            ]
          },
          "metadata": {},
          "execution_count": 655
        }
      ]
    },
    {
      "cell_type": "code",
      "source": [],
      "metadata": {
        "id": "c2w4tS2nzJ1K"
      },
      "execution_count": null,
      "outputs": []
    },
    {
      "cell_type": "code",
      "source": [
        "label_list=[]\n",
        "for i in range(len(a)):\n",
        "  label=np.int64(a.__getitem__(i)[1])\n",
        "  print(type(label))\n",
        "  label_list.append(label)"
      ],
      "metadata": {
        "colab": {
          "base_uri": "https://localhost:8080/"
        },
        "id": "YSBZ-pU7X3NP",
        "outputId": "6ded5647-8135-488f-882e-c0aa3cbb2918"
      },
      "execution_count": null,
      "outputs": [
        {
          "output_type": "stream",
          "name": "stdout",
          "text": [
            "<class 'numpy.int64'>\n",
            "<class 'numpy.int64'>\n",
            "<class 'numpy.int64'>\n",
            "<class 'numpy.int64'>\n",
            "<class 'numpy.int64'>\n",
            "<class 'numpy.int64'>\n",
            "<class 'numpy.int64'>\n",
            "<class 'numpy.int64'>\n",
            "<class 'numpy.int64'>\n",
            "<class 'numpy.int64'>\n",
            "<class 'numpy.int64'>\n",
            "<class 'numpy.int64'>\n",
            "<class 'numpy.int64'>\n",
            "<class 'numpy.int64'>\n",
            "<class 'numpy.int64'>\n",
            "<class 'numpy.int64'>\n",
            "<class 'numpy.int64'>\n",
            "<class 'numpy.int64'>\n",
            "<class 'numpy.int64'>\n",
            "<class 'numpy.int64'>\n",
            "<class 'numpy.int64'>\n",
            "<class 'numpy.int64'>\n",
            "<class 'numpy.int64'>\n",
            "<class 'numpy.int64'>\n",
            "<class 'numpy.int64'>\n",
            "<class 'numpy.int64'>\n",
            "<class 'numpy.int64'>\n",
            "<class 'numpy.int64'>\n",
            "<class 'numpy.int64'>\n",
            "<class 'numpy.int64'>\n",
            "<class 'numpy.int64'>\n",
            "<class 'numpy.int64'>\n",
            "<class 'numpy.int64'>\n",
            "<class 'numpy.int64'>\n",
            "<class 'numpy.int64'>\n",
            "<class 'numpy.int64'>\n",
            "<class 'numpy.int64'>\n",
            "<class 'numpy.int64'>\n",
            "<class 'numpy.int64'>\n",
            "<class 'numpy.int64'>\n",
            "<class 'numpy.int64'>\n",
            "<class 'numpy.int64'>\n",
            "<class 'numpy.int64'>\n",
            "<class 'numpy.int64'>\n",
            "<class 'numpy.int64'>\n",
            "<class 'numpy.int64'>\n",
            "<class 'numpy.int64'>\n",
            "<class 'numpy.int64'>\n",
            "<class 'numpy.int64'>\n",
            "<class 'numpy.int64'>\n"
          ]
        }
      ]
    },
    {
      "cell_type": "code",
      "source": [
        "label_list"
      ],
      "metadata": {
        "colab": {
          "base_uri": "https://localhost:8080/"
        },
        "id": "RDT_Kkuhq4e9",
        "outputId": "6e383391-8db3-48f2-b510-df9b13507830"
      },
      "execution_count": null,
      "outputs": [
        {
          "output_type": "execute_result",
          "data": {
            "text/plain": [
              "[2,\n",
              " 2,\n",
              " 2,\n",
              " 2,\n",
              " 2,\n",
              " 2,\n",
              " 2,\n",
              " 2,\n",
              " 2,\n",
              " 2,\n",
              " 2,\n",
              " 2,\n",
              " 2,\n",
              " 2,\n",
              " 2,\n",
              " 2,\n",
              " 2,\n",
              " 2,\n",
              " 2,\n",
              " 2,\n",
              " 2,\n",
              " 2,\n",
              " 2,\n",
              " 2,\n",
              " 2,\n",
              " 2,\n",
              " 2,\n",
              " 2,\n",
              " 2,\n",
              " 2,\n",
              " 2,\n",
              " 2,\n",
              " 2,\n",
              " 2,\n",
              " 2,\n",
              " 2,\n",
              " 2,\n",
              " 2,\n",
              " 2,\n",
              " 2,\n",
              " 2,\n",
              " 2,\n",
              " 2,\n",
              " 2,\n",
              " 2,\n",
              " 2,\n",
              " 2,\n",
              " 2,\n",
              " 2,\n",
              " 2]"
            ]
          },
          "metadata": {},
          "execution_count": 657
        }
      ]
    },
    {
      "cell_type": "code",
      "source": [
        "tensor_list.shape"
      ],
      "metadata": {
        "colab": {
          "base_uri": "https://localhost:8080/"
        },
        "id": "BFJOlLyIy09U",
        "outputId": "ac192f74-6ae4-46b8-d220-260cba3135c9"
      },
      "execution_count": null,
      "outputs": [
        {
          "output_type": "execute_result",
          "data": {
            "text/plain": [
              "torch.Size([50, 3, 5, 5])"
            ]
          },
          "metadata": {},
          "execution_count": 658
        }
      ]
    },
    {
      "cell_type": "code",
      "source": [
        "tensor_list[0].shape"
      ],
      "metadata": {
        "colab": {
          "base_uri": "https://localhost:8080/"
        },
        "id": "zFgPfH0wy5tF",
        "outputId": "18d680e7-bf35-4de0-d942-f8155e928c7a"
      },
      "execution_count": null,
      "outputs": [
        {
          "output_type": "execute_result",
          "data": {
            "text/plain": [
              "torch.Size([3, 5, 5])"
            ]
          },
          "metadata": {},
          "execution_count": 659
        }
      ]
    },
    {
      "cell_type": "code",
      "source": [
        "tensor_list[0]"
      ],
      "metadata": {
        "colab": {
          "base_uri": "https://localhost:8080/"
        },
        "id": "xFrjLT_jyy6j",
        "outputId": "5753b370-f008-47fe-a285-cbca63ed17fd"
      },
      "execution_count": null,
      "outputs": [
        {
          "output_type": "execute_result",
          "data": {
            "text/plain": [
              "tensor([[[ 1.9269,  1.4873,  0.9007, -2.1055,  0.6784],\n",
              "         [-1.2345, -0.0431, -1.6047, -0.7521,  1.6487],\n",
              "         [-0.3925, -1.4036, -0.7279, -0.5594, -0.7688],\n",
              "         [ 0.7624,  1.6423, -0.1596, -0.4974,  0.4396],\n",
              "         [-0.7581,  1.0783,  0.8008,  1.6806,  1.2791]],\n",
              "\n",
              "        [[ 1.2964,  0.6105,  1.3347, -0.2316,  0.0418],\n",
              "         [-0.2516,  0.8599, -1.3847, -0.8712, -0.2234],\n",
              "         [ 1.7174,  0.3189, -0.4245,  0.3057, -0.7746],\n",
              "         [-1.5576,  0.9956, -0.8798, -0.6011, -1.2742],\n",
              "         [ 2.1228, -1.2347, -0.4879, -0.9138, -0.6581]],\n",
              "\n",
              "        [[ 0.0780,  0.5258, -0.4880,  1.1914, -0.8140],\n",
              "         [-0.7360, -1.4032,  0.0360, -0.0635, -0.1423],\n",
              "         [ 0.1971, -1.1441,  0.3383,  1.6992,  0.0109],\n",
              "         [-0.3387, -1.3407,  0.4584, -0.5644,  1.0563],\n",
              "         [-1.4692,  1.4332,  0.7440, -0.4816, -1.0495]]])"
            ]
          },
          "metadata": {},
          "execution_count": 660
        }
      ]
    },
    {
      "cell_type": "code",
      "source": [
        "type(label_list[0])"
      ],
      "metadata": {
        "colab": {
          "base_uri": "https://localhost:8080/"
        },
        "id": "kWzdpJlBzCDY",
        "outputId": "2b0dcea1-9a4a-4de6-b223-cba19f5cd204"
      },
      "execution_count": null,
      "outputs": [
        {
          "output_type": "execute_result",
          "data": {
            "text/plain": [
              "numpy.int64"
            ]
          },
          "metadata": {},
          "execution_count": 661
        }
      ]
    },
    {
      "cell_type": "code",
      "source": [
        "normalize = transforms.Compose([\n",
        "    transforms.Normalize(mean=mean, std=std)\n",
        "])\n",
        "\n",
        "\n",
        "\n",
        "# Define a custom dataset class with random data\n",
        "class Normalized(Dataset):\n",
        "    def __init__(self,input,label,transform):\n",
        "\n",
        "        self.label=label\n",
        "        self.input=input\n",
        "        self.transform=transform\n",
        "\n",
        "    def __len__(self):\n",
        "        return len(self.target_label)\n",
        "\n",
        "    def __getitem__(self, idx):\n",
        "        # Generate random input data and target labels for each sample\n",
        "        input_data = self.input[idx]\n",
        "        data=input_data\n",
        "\n",
        "        # Normalizaiton\n",
        "\n",
        "        target_label=self.label[idx]\n",
        "        print(data.shape)\n",
        "\n",
        "        if self.transform:\n",
        "           norm = self.transform(self.input)\n",
        "           data=norm[idx]\n",
        "\n",
        "\n",
        "        #sample = {'input': data, 'target': target_label}\n",
        "        return data,target_label\n",
        "\n",
        "\n",
        "\n",
        "\n",
        "transformed1 = Normalized(tensor_list,label_list,transform=normalize)\n",
        "\n",
        "\n"
      ],
      "metadata": {
        "id": "xNE19Addrch5"
      },
      "execution_count": null,
      "outputs": []
    },
    {
      "cell_type": "code",
      "source": [
        "transformed"
      ],
      "metadata": {
        "colab": {
          "base_uri": "https://localhost:8080/"
        },
        "id": "7_DAh6GwrqYh",
        "outputId": "110209ab-653f-455e-d511-b212d12d7ff0"
      },
      "execution_count": null,
      "outputs": [
        {
          "output_type": "execute_result",
          "data": {
            "text/plain": [
              "<__main__.Normalize at 0x7ad078232980>"
            ]
          },
          "metadata": {},
          "execution_count": 663
        }
      ]
    },
    {
      "cell_type": "code",
      "source": [
        "transformed1.__getitem__(1)"
      ],
      "metadata": {
        "colab": {
          "base_uri": "https://localhost:8080/"
        },
        "id": "xqF_6fyBrt5m",
        "outputId": "c0e7e2e5-3156-4e33-e4c7-7752b957acde"
      },
      "execution_count": null,
      "outputs": [
        {
          "output_type": "stream",
          "name": "stdout",
          "text": [
            "torch.Size([3, 5, 5])\n"
          ]
        },
        {
          "output_type": "execute_result",
          "data": {
            "text/plain": [
              "(tensor([[[ 1.5678,  1.1836,  0.6711, -1.9558,  0.4768],\n",
              "          [-1.1947, -0.1536, -1.5181, -0.7732,  1.3247],\n",
              "          [-0.4589, -1.3424, -0.7520, -0.6048, -0.7878],\n",
              "          [ 0.5503,  1.3191, -0.2554, -0.5506,  0.2681],\n",
              "          [-0.7784,  0.8263,  0.5838,  1.3526,  1.0017]],\n",
              " \n",
              "         [[ 1.3861,  0.6986,  1.4245, -0.1453,  0.1287],\n",
              "          [-0.1653,  0.9486, -1.3010, -0.7864, -0.1371],\n",
              "          [ 1.8080,  0.4064, -0.3387,  0.3932, -0.6895],\n",
              "          [-1.4742,  1.0846, -0.7949, -0.5157, -1.1902],\n",
              "          [ 2.2143, -1.1506, -0.4022, -0.8291, -0.5728]],\n",
              " \n",
              "         [[ 0.1937,  0.7080, -0.4563,  1.4724, -0.8307],\n",
              "          [-0.7411, -1.5075,  0.1455,  0.0312, -0.0593],\n",
              "          [ 0.3305, -1.2099,  0.4927,  2.0556,  0.1166],\n",
              "          [-0.2849, -1.4356,  0.6306, -0.5441,  1.3173],\n",
              "          [-1.5831,  1.7501,  0.9585, -0.4490, -1.1011]]]),\n",
              " 2)"
            ]
          },
          "metadata": {},
          "execution_count": 664
        }
      ]
    },
    {
      "cell_type": "code",
      "source": [
        "transformed1[0]"
      ],
      "metadata": {
        "colab": {
          "base_uri": "https://localhost:8080/"
        },
        "id": "XDt1kQl4rwZX",
        "outputId": "28708c70-c412-48cc-c795-9d93b1fa2cda"
      },
      "execution_count": null,
      "outputs": [
        {
          "output_type": "stream",
          "name": "stdout",
          "text": [
            "torch.Size([3, 5, 5])\n"
          ]
        },
        {
          "output_type": "execute_result",
          "data": {
            "text/plain": [
              "(tensor([[[ 1.5678,  1.1836,  0.6711, -1.9558,  0.4768],\n",
              "          [-1.1947, -0.1536, -1.5181, -0.7732,  1.3247],\n",
              "          [-0.4589, -1.3424, -0.7520, -0.6048, -0.7878],\n",
              "          [ 0.5503,  1.3191, -0.2554, -0.5506,  0.2681],\n",
              "          [-0.7784,  0.8263,  0.5838,  1.3526,  1.0017]],\n",
              " \n",
              "         [[ 1.3861,  0.6986,  1.4245, -0.1453,  0.1287],\n",
              "          [-0.1653,  0.9486, -1.3010, -0.7864, -0.1371],\n",
              "          [ 1.8080,  0.4064, -0.3387,  0.3932, -0.6895],\n",
              "          [-1.4742,  1.0846, -0.7949, -0.5157, -1.1902],\n",
              "          [ 2.2143, -1.1506, -0.4022, -0.8291, -0.5728]],\n",
              " \n",
              "         [[ 0.1937,  0.7080, -0.4563,  1.4724, -0.8307],\n",
              "          [-0.7411, -1.5075,  0.1455,  0.0312, -0.0593],\n",
              "          [ 0.3305, -1.2099,  0.4927,  2.0556,  0.1166],\n",
              "          [-0.2849, -1.4356,  0.6306, -0.5441,  1.3173],\n",
              "          [-1.5831,  1.7501,  0.9585, -0.4490, -1.1011]]]),\n",
              " 2)"
            ]
          },
          "metadata": {},
          "execution_count": 665
        }
      ]
    },
    {
      "cell_type": "code",
      "source": [
        "hello[1]"
      ],
      "metadata": {
        "colab": {
          "base_uri": "https://localhost:8080/"
        },
        "id": "CU3iLU54sEHL",
        "outputId": "02c14b51-cee0-430e-e2cf-f3cf548ddc17"
      },
      "execution_count": null,
      "outputs": [
        {
          "output_type": "execute_result",
          "data": {
            "text/plain": [
              "tensor([[[ 1.5678,  1.1836,  0.6711, -1.9558,  0.4768],\n",
              "         [-1.1947, -0.1536, -1.5181, -0.7732,  1.3247],\n",
              "         [-0.4589, -1.3424, -0.7520, -0.6048, -0.7878],\n",
              "         [ 0.5503,  1.3191, -0.2554, -0.5506,  0.2681],\n",
              "         [-0.7784,  0.8263,  0.5838,  1.3526,  1.0017]],\n",
              "\n",
              "        [[ 1.3861,  0.6986,  1.4245, -0.1453,  0.1287],\n",
              "         [-0.1653,  0.9486, -1.3010, -0.7864, -0.1371],\n",
              "         [ 1.8080,  0.4064, -0.3387,  0.3932, -0.6895],\n",
              "         [-1.4742,  1.0846, -0.7949, -0.5157, -1.1902],\n",
              "         [ 2.2143, -1.1506, -0.4022, -0.8291, -0.5728]],\n",
              "\n",
              "        [[ 0.1937,  0.7080, -0.4563,  1.4724, -0.8307],\n",
              "         [-0.7411, -1.5075,  0.1455,  0.0312, -0.0593],\n",
              "         [ 0.3305, -1.2099,  0.4927,  2.0556,  0.1166],\n",
              "         [-0.2849, -1.4356,  0.6306, -0.5441,  1.3173],\n",
              "         [-1.5831,  1.7501,  0.9585, -0.4490, -1.1011]]])"
            ]
          },
          "metadata": {},
          "execution_count": 666
        }
      ]
    },
    {
      "cell_type": "code",
      "source": [],
      "metadata": {
        "id": "BVGwgnv7xTZ9"
      },
      "execution_count": null,
      "outputs": []
    }
  ]
}