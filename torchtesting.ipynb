{
  "nbformat": 4,
  "nbformat_minor": 0,
  "metadata": {
    "colab": {
      "provenance": [],
      "authorship_tag": "ABX9TyMXZz4o7yuIuxSMskoKI8wB",
      "include_colab_link": true
    },
    "kernelspec": {
      "name": "python3",
      "display_name": "Python 3"
    },
    "language_info": {
      "name": "python"
    }
  },
  "cells": [
    {
      "cell_type": "markdown",
      "metadata": {
        "id": "view-in-github",
        "colab_type": "text"
      },
      "source": [
        "<a href=\"https://colab.research.google.com/github/amukund8/Projects/blob/main/torchtesting.ipynb\" target=\"_parent\"><img src=\"https://colab.research.google.com/assets/colab-badge.svg\" alt=\"Open In Colab\"/></a>"
      ]
    },
    {
      "cell_type": "code",
      "execution_count": null,
      "metadata": {
        "colab": {
          "base_uri": "https://localhost:8080/"
        },
        "id": "y59Q93U-we8e",
        "outputId": "df301331-beac-4196-aced-91993434bb6b"
      },
      "outputs": [
        {
          "output_type": "stream",
          "name": "stdout",
          "text": [
            "Raw scores:\n",
            "tensor([[ 1.,  2.,  3.],\n",
            "        [ 4.,  5.,  6.],\n",
            "        [ 7.,  8.,  9.],\n",
            "        [10., 11., 12.]])\n",
            "\n",
            "Softmax probabilities:\n",
            "tensor([[0.0900, 0.2447, 0.6652],\n",
            "        [0.0900, 0.2447, 0.6652],\n",
            "        [0.0900, 0.2447, 0.6652],\n",
            "        [0.0900, 0.2447, 0.6652]])\n"
          ]
        }
      ],
      "source": [
        "import torch\n",
        "import torch.nn as nn\n",
        "\n",
        "# Create a 2D tensor representing raw scores for three classes (3 classes, 4 samples)\n",
        "raw_scores = torch.tensor([[1.0, 2.0, 3.0],\n",
        "                           [4.0, 5.0, 6.0],\n",
        "                           [7.0, 8.0, 9.0],\n",
        "                           [10.0, 11.0, 12.0]])\n",
        "\n",
        "# Apply softmax along dimension 1 (classes)\n",
        "softmax = nn.Softmax(dim=1)\n",
        "output_probs = softmax(raw_scores)\n",
        "\n",
        "print(\"Raw scores:\")\n",
        "print(raw_scores)\n",
        "print(\"\\nSoftmax probabilities:\")\n",
        "print(output_probs)\n"
      ]
    },
    {
      "cell_type": "code",
      "source": [
        "import torch\n",
        "import torch.nn as nn\n",
        "\n",
        "# Create a 2D tensor representing raw scores for three classes (3 classes, 4 samples)\n",
        "raw_scores = torch.tensor([[1.0, 2.0, 3.0],\n",
        "                           [4.0, 5.0, 6.0],\n",
        "                           [7.0, 8.0, 9.0],\n",
        "                           [10.0, 11.0, 12.0]])\n",
        "\n",
        "# Apply softmax along dimension 1 (classes)\n",
        "softmax = nn.Softmax(dim=0)\n",
        "output_probs = softmax(raw_scores)\n",
        "\n",
        "print(\"Raw scores:\")\n",
        "print(raw_scores)\n",
        "print(\"\\nSoftmax probabilities:\")\n",
        "print(output_probs)\n"
      ],
      "metadata": {
        "colab": {
          "base_uri": "https://localhost:8080/"
        },
        "id": "7LcBVAK6wfxG",
        "outputId": "df4ad659-11fa-47b0-ef74-12317d66d74e"
      },
      "execution_count": null,
      "outputs": [
        {
          "output_type": "stream",
          "name": "stdout",
          "text": [
            "Raw scores:\n",
            "tensor([[ 1.,  2.,  3.],\n",
            "        [ 4.,  5.,  6.],\n",
            "        [ 7.,  8.,  9.],\n",
            "        [10., 11., 12.]])\n",
            "\n",
            "Softmax probabilities:\n",
            "tensor([[1.1727e-04, 1.1727e-04, 1.1727e-04],\n",
            "        [2.3554e-03, 2.3554e-03, 2.3554e-03],\n",
            "        [4.7309e-02, 4.7309e-02, 4.7309e-02],\n",
            "        [9.5022e-01, 9.5022e-01, 9.5022e-01]])\n"
          ]
        }
      ]
    },
    {
      "cell_type": "code",
      "source": [
        "o1= torch.tensor([[-0.0186,  0.0053, -0.0376,  0.0025],\n",
        "        [-0.0214,  0.0066, -0.0329,  0.0026],\n",
        "        [-0.0175,  0.0053, -0.0377,  0.0032],\n",
        "        [-0.0204,  0.0084, -0.0360,  0.0002],\n",
        "        [-0.0215,  0.0035, -0.0383,  0.0053],\n",
        "        [-0.0213,  0.0021, -0.0499,  0.0030],\n",
        "        [-0.0187,  0.0051, -0.0460, -0.0052],\n",
        "        [-0.0187,  0.0095, -0.0404, -0.0110],\n",
        "        [-0.0183,  0.0097, -0.0409, -0.0200],\n",
        "        [-0.0194,  0.0088, -0.0403, -0.0074],\n",
        "        [-0.0220,  0.0068, -0.0326,  0.0034]])"
      ],
      "metadata": {
        "id": "7LRCWNuWXnuU"
      },
      "execution_count": null,
      "outputs": []
    },
    {
      "cell_type": "code",
      "source": [
        "len(o1)"
      ],
      "metadata": {
        "colab": {
          "base_uri": "https://localhost:8080/"
        },
        "id": "7mexMyHoXq8N",
        "outputId": "50d02149-e4b7-4d1f-badd-d49812eb70b7"
      },
      "execution_count": null,
      "outputs": [
        {
          "output_type": "execute_result",
          "data": {
            "text/plain": [
              "11"
            ]
          },
          "metadata": {},
          "execution_count": 117
        }
      ]
    },
    {
      "cell_type": "code",
      "source": [
        "target=torch.tensor([3, 3, 3, 3, 3, 3, 3, 3, 3, 3, 3])"
      ],
      "metadata": {
        "id": "8W_JdasLXy-k"
      },
      "execution_count": null,
      "outputs": []
    },
    {
      "cell_type": "code",
      "source": [
        "target[1]"
      ],
      "metadata": {
        "colab": {
          "base_uri": "https://localhost:8080/"
        },
        "id": "gkLqXygPdlxp",
        "outputId": "c85ca5b5-9744-4cbb-c2e2-bbb4b8612b7e"
      },
      "execution_count": null,
      "outputs": [
        {
          "output_type": "execute_result",
          "data": {
            "text/plain": [
              "tensor(3)"
            ]
          },
          "metadata": {},
          "execution_count": 119
        }
      ]
    },
    {
      "cell_type": "code",
      "source": [
        "len(target)"
      ],
      "metadata": {
        "colab": {
          "base_uri": "https://localhost:8080/"
        },
        "id": "IVMuy-r6YSWo",
        "outputId": "f728cd83-8684-4f6d-988d-085abb44ad1e"
      },
      "execution_count": null,
      "outputs": [
        {
          "output_type": "execute_result",
          "data": {
            "text/plain": [
              "11"
            ]
          },
          "metadata": {},
          "execution_count": 120
        }
      ]
    },
    {
      "cell_type": "code",
      "source": [
        "sm=nn.Softmax()\n",
        "preds=sm(o1)"
      ],
      "metadata": {
        "colab": {
          "base_uri": "https://localhost:8080/"
        },
        "id": "0y1HNczfYTUe",
        "outputId": "efb9e667-b408-4ee7-d607-e469f3cce71f"
      },
      "execution_count": null,
      "outputs": [
        {
          "output_type": "stream",
          "name": "stderr",
          "text": [
            "/usr/local/lib/python3.10/dist-packages/torch/nn/modules/module.py:1518: UserWarning: Implicit dimension choice for softmax has been deprecated. Change the call to include dim=X as an argument.\n",
            "  return self._call_impl(*args, **kwargs)\n"
          ]
        }
      ]
    },
    {
      "cell_type": "code",
      "source": [
        "print(preds)"
      ],
      "metadata": {
        "colab": {
          "base_uri": "https://localhost:8080/"
        },
        "id": "ASSc97cXY46t",
        "outputId": "fab13713-71ea-4073-87a9-43ffa6f15dd2"
      },
      "execution_count": null,
      "outputs": [
        {
          "output_type": "stream",
          "name": "stdout",
          "text": [
            "tensor([[0.2483, 0.2543, 0.2437, 0.2536],\n",
            "        [0.2474, 0.2545, 0.2446, 0.2535],\n",
            "        [0.2485, 0.2542, 0.2435, 0.2537],\n",
            "        [0.2479, 0.2551, 0.2440, 0.2530],\n",
            "        [0.2478, 0.2541, 0.2437, 0.2545],\n",
            "        [0.2488, 0.2546, 0.2417, 0.2549],\n",
            "        [0.2493, 0.2553, 0.2426, 0.2527],\n",
            "        [0.2491, 0.2562, 0.2437, 0.2510],\n",
            "        [0.2497, 0.2568, 0.2441, 0.2493],\n",
            "        [0.2488, 0.2559, 0.2436, 0.2518],\n",
            "        [0.2473, 0.2545, 0.2446, 0.2536]])\n"
          ]
        }
      ]
    },
    {
      "cell_type": "code",
      "source": [
        "ex=torch.tensor(0.2545)\n",
        "ex2=torch.tensor(0.24523)\n",
        "a=[ex, ex2]\n",
        "a"
      ],
      "metadata": {
        "colab": {
          "base_uri": "https://localhost:8080/"
        },
        "id": "zh8PvW2GbivQ",
        "outputId": "4e92b008-d28f-4e0d-eea7-265afe28676b"
      },
      "execution_count": null,
      "outputs": [
        {
          "output_type": "execute_result",
          "data": {
            "text/plain": [
              "[tensor(0.2545), tensor(0.2452)]"
            ]
          },
          "metadata": {},
          "execution_count": 123
        }
      ]
    },
    {
      "cell_type": "code",
      "source": [
        "target.size(0)"
      ],
      "metadata": {
        "colab": {
          "base_uri": "https://localhost:8080/"
        },
        "id": "f6AMbZGee2Wq",
        "outputId": "35cd0c78-9433-4f6b-a9b2-5a86cbadf354"
      },
      "execution_count": null,
      "outputs": [
        {
          "output_type": "execute_result",
          "data": {
            "text/plain": [
              "11"
            ]
          },
          "metadata": {},
          "execution_count": 124
        }
      ]
    },
    {
      "cell_type": "code",
      "source": [
        "target.size(0)"
      ],
      "metadata": {
        "colab": {
          "base_uri": "https://localhost:8080/"
        },
        "id": "_tUKc3KmfFQ_",
        "outputId": "ad627007-c47f-435b-9ccc-22f949d4f095"
      },
      "execution_count": null,
      "outputs": [
        {
          "output_type": "execute_result",
          "data": {
            "text/plain": [
              "11"
            ]
          },
          "metadata": {},
          "execution_count": 125
        }
      ]
    },
    {
      "cell_type": "code",
      "source": [
        "correct += (predicted == target).sum().item()"
      ],
      "metadata": {
        "id": "kYXLDl7bfldv"
      },
      "execution_count": null,
      "outputs": []
    },
    {
      "cell_type": "code",
      "source": [
        "correct"
      ],
      "metadata": {
        "colab": {
          "base_uri": "https://localhost:8080/"
        },
        "id": "NBmc7GhZgSWU",
        "outputId": "ea8a7d19-2fbb-48ed-e410-98f33bb40961"
      },
      "execution_count": null,
      "outputs": [
        {
          "output_type": "execute_result",
          "data": {
            "text/plain": [
              "2"
            ]
          },
          "metadata": {},
          "execution_count": 127
        }
      ]
    },
    {
      "cell_type": "code",
      "source": [
        "correct=0\n",
        "total=0\n",
        "index=0\n",
        "max_vals=[]\n",
        "pred_vals=[]\n",
        "for imageprob in preds:\n",
        "\n",
        "  #print(imageprob)\n",
        "  predicted = torch.max(imageprob)\n",
        "  max_vals.append(predicted)\n",
        "  #print(predicted)\n",
        "  indices = torch.where(imageprob == predicted)\n",
        "  predicted = indices[0][0]\n",
        "  pred_vals.append(predicted)\n",
        "  #print(predicted)\n",
        "  total +=target.size(0)\n",
        "  if predicted==target[index]:\n",
        "    correct+=1\n",
        "  #correct += (predicted == label).sum().item()\n",
        "\n",
        "  index+=1\n",
        "\n",
        "\n"
      ],
      "metadata": {
        "colab": {
          "base_uri": "https://localhost:8080/"
        },
        "id": "ekAglLKSamYD",
        "outputId": "57fd6110-6b6d-48c7-f41b-6dd6b10686ea"
      },
      "execution_count": null,
      "outputs": [
        {
          "output_type": "stream",
          "name": "stdout",
          "text": [
            "tensor([0.2483, 0.2543, 0.2437, 0.2536])\n",
            "tensor(0.2543)\n",
            "tensor(1)\n",
            "tensor([0.2474, 0.2545, 0.2446, 0.2535])\n",
            "tensor(0.2545)\n",
            "tensor(1)\n",
            "tensor([0.2485, 0.2542, 0.2435, 0.2537])\n",
            "tensor(0.2542)\n",
            "tensor(1)\n",
            "tensor([0.2479, 0.2551, 0.2440, 0.2530])\n",
            "tensor(0.2551)\n",
            "tensor(1)\n",
            "tensor([0.2478, 0.2541, 0.2437, 0.2545])\n",
            "tensor(0.2545)\n",
            "tensor(3)\n",
            "tensor([0.2488, 0.2546, 0.2417, 0.2549])\n",
            "tensor(0.2549)\n",
            "tensor(3)\n",
            "tensor([0.2493, 0.2553, 0.2426, 0.2527])\n",
            "tensor(0.2553)\n",
            "tensor(1)\n",
            "tensor([0.2491, 0.2562, 0.2437, 0.2510])\n",
            "tensor(0.2562)\n",
            "tensor(1)\n",
            "tensor([0.2497, 0.2568, 0.2441, 0.2493])\n",
            "tensor(0.2568)\n",
            "tensor(1)\n",
            "tensor([0.2488, 0.2559, 0.2436, 0.2518])\n",
            "tensor(0.2559)\n",
            "tensor(1)\n",
            "tensor([0.2473, 0.2545, 0.2446, 0.2536])\n",
            "tensor(0.2545)\n",
            "tensor(1)\n"
          ]
        }
      ]
    },
    {
      "cell_type": "code",
      "source": [
        "correct"
      ],
      "metadata": {
        "colab": {
          "base_uri": "https://localhost:8080/"
        },
        "id": "M4INIYFJgp1X",
        "outputId": "a82742f2-9773-4859-ffa3-3034c2d35b1d"
      },
      "execution_count": null,
      "outputs": [
        {
          "output_type": "execute_result",
          "data": {
            "text/plain": [
              "2"
            ]
          },
          "metadata": {},
          "execution_count": 129
        }
      ]
    },
    {
      "cell_type": "code",
      "source": [],
      "metadata": {
        "id": "OA-UCozbgr90"
      },
      "execution_count": null,
      "outputs": []
    },
    {
      "cell_type": "code",
      "source": [
        "correct"
      ],
      "metadata": {
        "colab": {
          "base_uri": "https://localhost:8080/"
        },
        "id": "NyPbgN6bgxXr",
        "outputId": "f27cf3d5-d7ca-416c-8297-fdd2d03835a2"
      },
      "execution_count": null,
      "outputs": [
        {
          "output_type": "execute_result",
          "data": {
            "text/plain": [
              "2"
            ]
          },
          "metadata": {},
          "execution_count": 130
        }
      ]
    },
    {
      "cell_type": "code",
      "source": [
        "predicted"
      ],
      "metadata": {
        "colab": {
          "base_uri": "https://localhost:8080/"
        },
        "id": "QqRdNkrwg8nX",
        "outputId": "64d8abd4-bca5-4317-eb05-5ff7bf911377"
      },
      "execution_count": null,
      "outputs": [
        {
          "output_type": "execute_result",
          "data": {
            "text/plain": [
              "tensor(1)"
            ]
          },
          "metadata": {},
          "execution_count": 131
        }
      ]
    },
    {
      "cell_type": "code",
      "source": [
        "predicted = torch.max(preds)"
      ],
      "metadata": {
        "id": "woa7E0GdY6HK"
      },
      "execution_count": null,
      "outputs": []
    },
    {
      "cell_type": "code",
      "source": [
        "predicted"
      ],
      "metadata": {
        "colab": {
          "base_uri": "https://localhost:8080/"
        },
        "id": "EoOroQOyY9V-",
        "outputId": "8b9ad184-4874-4d3f-ba07-b217f6c70efd"
      },
      "execution_count": null,
      "outputs": [
        {
          "output_type": "execute_result",
          "data": {
            "text/plain": [
              "tensor(0.2568)"
            ]
          },
          "metadata": {},
          "execution_count": 133
        }
      ]
    },
    {
      "cell_type": "code",
      "source": [
        "index = torch.where(preds == predicted)"
      ],
      "metadata": {
        "id": "-CigleIGaBOQ"
      },
      "execution_count": null,
      "outputs": []
    },
    {
      "cell_type": "code",
      "source": [
        "index"
      ],
      "metadata": {
        "id": "t-d7V1IHaIqS"
      },
      "execution_count": null,
      "outputs": []
    },
    {
      "cell_type": "code",
      "source": [
        "import torch\n",
        "\n",
        "# Create a tensor\n",
        "my_tensor = torch.tensor([1, 3, 7, 5, 9, 11, 13])\n",
        "\n",
        "# Specify the value you want to find\n",
        "value_to_find = 5\n",
        "\n",
        "# Use torch.where to find the indices where the tensor is equal to the specified value\n",
        "indices = torch.where(my_tensor == value_to_find)\n",
        "\n",
        "print(\"Original tensor:\", my_tensor)\n",
        "print(f\"Indices of {value_to_find}:\", indices)\n",
        "\n",
        "indices_as_tensor = indices[0][0]\n",
        "print(\"Indices as tensor:\", indices_as_tensor)\n"
      ],
      "metadata": {
        "id": "sflRvf7SZBuB"
      },
      "execution_count": null,
      "outputs": []
    },
    {
      "cell_type": "code",
      "source": [],
      "metadata": {
        "id": "dbbuMTgeZGao"
      },
      "execution_count": null,
      "outputs": []
    }
  ]
}